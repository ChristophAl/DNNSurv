{
 "cells": [
  {
   "cell_type": "code",
   "execution_count": 1,
   "metadata": {},
   "outputs": [],
   "source": [
    "from pyensae.languages import r2python"
   ]
  },
  {
   "cell_type": "code",
   "execution_count": 8,
   "metadata": {},
   "outputs": [],
   "source": [
    "script = ''' getPseudoConditional <- function(t, d, qt){\n",
    "  #browser()\n",
    "  s <- c(0, qt)  \n",
    "  n=length(t)\n",
    "  ns=length(s)-1  # the number of intervals\n",
    "  D <- do.call(cbind, lapply(1:ns, function(j)  (s[j] < t) * (t <= s[j+1]) * (d == 1)))\n",
    "  R <- do.call(cbind, lapply(1:ns, function(j) ifelse(s[j] < t, 1, 0)))\n",
    "  Delta<-do.call(cbind, lapply(1:ns, function(j) pmin(t,s[j+1])-s[j]))\n",
    "  \n",
    "  # format into long formate\n",
    "  dd.tmp=cbind.data.frame(id=rep(1:n,ns),s=rep(c(0,qt[-length(qt)]), each=n), y=c(R*Delta),d=c(D))\n",
    "  \n",
    "  dd=dd.tmp[dd.tmp$y>0,]\n",
    "  pseudost=rep(NA, nrow(dd))\n",
    "  for (j in 1:ns){\n",
    "    index= (dd$s==s[j])\n",
    "    dds=dd[index,]\n",
    "    pseudost[index]=pseudosurv(time=dds$y, event=dds$d, tmax=s[j+1]-s[j])$pseudo\n",
    "    print(j)\n",
    "  }\n",
    "  dd$pseudost=pseudost  \n",
    "  \n",
    "  return(dd[,c(1,2,5)])\n",
    "}'''"
   ]
  },
  {
   "cell_type": "code",
   "execution_count": 9,
   "metadata": {},
   "outputs": [
    {
     "name": "stderr",
     "output_type": "stream",
     "text": [
      "line 13:23 no viable alternative at input 'function(t,d,qt){\\n#browser()\\ns<-c(0,qt)\\nn=length(t)\\nns=length(s)-1# the number of intervals\\nD<-do.call(cbind,lapply(1:ns,function(j)(s[j]<t)*(t<=s[j+1])*(d==1)))\\nR<-do.call(cbind,lapply(1:ns,function(j)ifelse(s[j]<t,1,0)))\\nDelta<-do.call(cbind,lapply(1:ns,function(j)pmin(t,s[j+1])-s[j]))\\n\\n# format into long formate\\ndd.tmp=cbind.data.frame(id=rep(1:n,ns),s=rep(c(0,qt[-length(qt)]),each=n),y=c(R*Delta),d=c(D))\\n\\ndd=dd.tmp[dd.tmp$y>0,]'\n",
      "line 13:23 no viable alternative at input '[dd.tmp$y>0,]'\n",
      "line 13:23 extraneous input ']' expecting {'-', '+', '!', '{', '?', 'break', '(', '.', '...', 'NULL', ':', 'NA', 'Inf', 'NaN', 'TRUE', 'FALSE', 'next', 'repeat', 'while', 'for', 'if', 'return', 'within', 'function', '~', HEX, INT, FLOAT, COMPLEX, STRING, ID, NL}\n",
      "line 15:2 no viable alternative at input 'pseudost=rep(NA,nrow(dd))\\nfor'\n",
      "line 14:27 mismatched input ')' expecting ']'\n",
      "line 17:17 no viable alternative at input '[index,]'\n",
      "line 17:17 extraneous input ']' expecting {'-', '+', '!', '{', '?', 'break', '(', '.', '...', 'NULL', ':', 'NA', 'Inf', 'NaN', 'TRUE', 'FALSE', 'next', 'repeat', 'while', 'for', 'if', 'return', 'within', 'function', '~', HEX, INT, FLOAT, COMPLEX, STRING, ID, NL}\n",
      "line 19:4 no viable alternative at input '$pseudo\\nprint'\n",
      "line 19:4 mismatched input 'print' expecting ']'\n",
      "line 23:12 extraneous input ',' expecting {'-', '+', '!', '{', '?', 'break', '(', '.', '...', 'NULL', ':', 'NA', 'Inf', 'NaN', 'TRUE', 'FALSE', 'next', 'repeat', 'while', 'for', 'if', 'return', 'within', 'function', '~', HEX, INT, FLOAT, COMPLEX, STRING, ID, NL}\n",
      "line 24:0 extraneous input '}' expecting {<EOF>, '-', '+', '!', '{', '?', 'break', '(', '.', 'NULL', 'NA', 'Inf', 'NaN', 'TRUE', 'FALSE', 'next', 'repeat', 'while', 'for', 'if', 'return', 'within', 'function', '~', HEX, INT, FLOAT, COMPLEX, STRING, ID, NL}\n"
     ]
    },
    {
     "name": "stdout",
     "output_type": "stream",
     "text": [
      "from python2r_helper import make_tuple\n",
      "\n",
      "getPseudoConditional =\n",
      "# browser()\n",
      "s = make_tuple(0, qt)\n",
      "n = length(t)\n",
      "# the number of intervals\n",
      "ns = length(s) - 1 D = do_call(cbind, lapply(range(1, ns), lambda j: (s[j] < t) * (t <= s[j + 1]) * (d == 1)))\n",
      "R = do_call(cbind, lapply(range(1, ns), lambda j: ifelse(s[j] < t, 1, 0)))\n",
      "Delta = do_call(cbind, lapply(\n",
      "    range(1, ns), lambda j: pmin(t, s[j + 1]) - s[j]))\n",
      "# format into long formate\n",
      "dd_tmp = cbind_data_frame(id=rep(range(1, n), ns), s=rep(make_tuple(\n",
      "    0, qt[- length(qt)]), each=n), y=make_tuple(R * Delta), d=make_tuple(D))\n",
      "dd = dd_tmp[dd_tmp . y > 0, , nrow(dd)\n",
      "for j in range(1, ns):\n",
      "\n",
      "    index = (dd . s == s [j])\n",
      "    dds = dd [index, pseudost [index] = pseudosurv (time = dds . y, event = dds . d, tmax = s [j + 1] - s [j]) . pseudo\n",
      "\n",
      "dd . pseudost = pseudost\n",
      "return dd[make_tuple(1, 2, 5)]\n",
      "\n"
     ]
    }
   ],
   "source": [
    "print(r2python(script, pep8=True))"
   ]
  },
  {
   "cell_type": "code",
   "execution_count": null,
   "metadata": {},
   "outputs": [],
   "source": []
  }
 ],
 "metadata": {
  "interpreter": {
   "hash": "31f2aee4e71d21fbe5cf8b01ff0e069b9275f58929596ceb00d14d90e3e16cd6"
  },
  "kernelspec": {
   "display_name": "Python 3.8.10 64-bit",
   "language": "python",
   "name": "python3"
  },
  "language_info": {
   "codemirror_mode": {
    "name": "ipython",
    "version": 3
   },
   "file_extension": ".py",
   "mimetype": "text/x-python",
   "name": "python",
   "nbconvert_exporter": "python",
   "pygments_lexer": "ipython3",
   "version": "3.8.12"
  },
  "orig_nbformat": 4
 },
 "nbformat": 4,
 "nbformat_minor": 2
}
